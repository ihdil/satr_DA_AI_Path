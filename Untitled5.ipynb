{
  "nbformat": 4,
  "nbformat_minor": 0,
  "metadata": {
    "colab": {
      "provenance": [],
      "authorship_tag": "ABX9TyNg5TWRpWiWr0yPXVJ9taog",
      "include_colab_link": true
    },
    "kernelspec": {
      "name": "python3",
      "display_name": "Python 3"
    },
    "language_info": {
      "name": "python"
    }
  },
  "cells": [
    {
      "cell_type": "markdown",
      "metadata": {
        "id": "view-in-github",
        "colab_type": "text"
      },
      "source": [
        "<a href=\"https://colab.research.google.com/github/ihdil/satr_DA_AI_Path/blob/main/Untitled5.ipynb\" target=\"_parent\"><img src=\"https://colab.research.google.com/assets/colab-badge.svg\" alt=\"Open In Colab\"/></a>"
      ]
    },
    {
      "cell_type": "markdown",
      "source": [
        "#**First Project #Python101**"
      ],
      "metadata": {
        "id": "V1oOZl3lL1Cq"
      }
    },
    {
      "cell_type": "code",
      "source": [
        "phone_list = {'Amal':1111111111 , 'Mohammad':2222222222, 'Khadijah':3333333333 , 'Abdullah':4444444444 , 'Rawan':5555555555 , 'Faisal':6666666666, 'Layla':7777777777}\n",
        "\n",
        "all_values_have_10_digits = all(len(str(value)) == 10 for value in phone_list.values())\n",
        "\n",
        "if all_values_have_10_digits:\n",
        "    print(\"\\n ** This is invalid number ** \")\n",
        "else:\n",
        "    print(\"\\n ** This is not invalid number ** \")\n",
        "\n",
        "user_number = int(input(\"Enter a number to search: \"))\n",
        "\n",
        "if user_number in phone_list.values():\n",
        "    print(\"the number is found\")\n",
        "else:\n",
        "    print(\"Sorry, the number is not found\")\n",
        "\n"
      ],
      "metadata": {
        "colab": {
          "base_uri": "https://localhost:8080/"
        },
        "id": "ZqgFt870Hhco",
        "outputId": "c67b8187-a58a-4726-9c70-ceb4c1fe1b94"
      },
      "execution_count": 25,
      "outputs": [
        {
          "output_type": "stream",
          "name": "stdout",
          "text": [
            "\n",
            " ** This is invalid number ** \n",
            "Enter a number to search: 57564\n",
            "Sorry, the number is not found\n"
          ]
        }
      ]
    }
  ]
}