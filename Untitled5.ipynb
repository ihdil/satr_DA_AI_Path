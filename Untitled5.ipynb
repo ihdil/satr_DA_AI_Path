{
  "nbformat": 4,
  "nbformat_minor": 0,
  "metadata": {
    "colab": {
      "provenance": [],
      "authorship_tag": "ABX9TyNWt9f4qdpEP/ohVJElfGap",
      "include_colab_link": true
    },
    "kernelspec": {
      "name": "python3",
      "display_name": "Python 3"
    },
    "language_info": {
      "name": "python"
    }
  },
  "cells": [
    {
      "cell_type": "markdown",
      "metadata": {
        "id": "view-in-github",
        "colab_type": "text"
      },
      "source": [
        "<a href=\"https://colab.research.google.com/github/ihdil/satr_DA_AI_Path/blob/main/Untitled5.ipynb\" target=\"_parent\"><img src=\"https://colab.research.google.com/assets/colab-badge.svg\" alt=\"Open In Colab\"/></a>"
      ]
    },
    {
      "cell_type": "markdown",
      "source": [
        "#**First Project #Python101**"
      ],
      "metadata": {
        "id": "V1oOZl3lL1Cq"
      }
    },
    {
      "cell_type": "code",
      "source": [
        "phone_list = {'Amal':1111111111 , 'Mohammad':2222222222, 'Khadijah':3333333333 , 'Abdullah':4444444444 , 'Rawan':5555555555 , 'Faisal':6666666666, 'Layla':7777777777}\n",
        "\n",
        "all_values_have_10_digits = all(len(str(value)) == 10 for value in phone_list.values())\n",
        "\n",
        "if all_values_have_10_digits:\n",
        "    print(\"\\n ** This is invalid number ** \")\n",
        "else:\n",
        "    print(\"\\n ** This is not invalid number ** \")\n",
        "\n",
        "user_number = int(input(\"Enter a number to search: \"))\n",
        "\n",
        "if user_number in phone_list.values():\n",
        "    print(\"the number is found\")\n",
        "else:\n",
        "    print(\"Sorry, the number is not found\")\n",
        "\n"
      ],
      "metadata": {
        "colab": {
          "base_uri": "https://localhost:8080/"
        },
        "id": "ZqgFt870Hhco",
        "outputId": "c67b8187-a58a-4726-9c70-ceb4c1fe1b94"
      },
      "execution_count": 25,
      "outputs": [
        {
          "output_type": "stream",
          "name": "stdout",
          "text": [
            "\n",
            " ** This is invalid number ** \n",
            "Enter a number to search: 57564\n",
            "Sorry, the number is not found\n"
          ]
        }
      ]
    },
    {
      "cell_type": "markdown",
      "source": [
        "# First Project #Python102"
      ],
      "metadata": {
        "id": "yE5B6A6LYbUs"
      }
    },
    {
      "cell_type": "code",
      "source": [
        "from datetime import datetime\n",
        "\n",
        "# Define a list of people with their names and birthdays\n",
        "people = [\n",
        "    {\"name\": \"Khalid\", \"birthday\": datetime(1989, 2, 1)},\n",
        "    {\"name\": \"Nouf\", \"birthday\": datetime(2004, 9, 2)},\n",
        "    {\"name\": \"Ali\", \"birthday\": datetime(2009, 12, 9)},\n",
        "]\n",
        "# Iterate through the list of people\n",
        "for person in people:\n",
        "    # Calculate the age in years\n",
        "    today = datetime.today()\n",
        "    age_in_years = today.year - person[\"birthday\"].year\n",
        "\n",
        "\n",
        "    # Check if the birthday has already passed this year\n",
        "    if today.month < person[\"birthday\"].month or (today.month == person[\"birthday\"].month and today.day < person[\"birthday\"].day):\n",
        "        age_in_years -= 1\n",
        "\n",
        "    # Format the day of birth\n",
        "    day_of_birth = person[\"birthday\"].strftime(\"%A\")\n",
        "\n",
        "    # Print the information\n",
        "    print(f\"{person['name']} is {age_in_years} years old, was born on a {day_of_birth}.\")\n",
        "print(\"\\n\")\n",
        "today = datetime.today()\n",
        "ages = [today.year - person[\"birthday\"].year for person in people]\n",
        "for i, age in enumerate(ages):\n",
        "    if today.month < people[i][\"birthday\"].month or (today.month == people[i][\"birthday\"].month and today.day < people[i][\"birthday\"].day):\n",
        "        ages[i] -= 1\n",
        "\n",
        "# Find the oldest person's index\n",
        "oldest_index = ages.index(max(ages))\n",
        "youngest = ages.index(min(ages))\n",
        "\n",
        "# Print the oldest person's information\n",
        "print(f\"The oldest person is {people[oldest_index]['name']} ({ages[oldest_index]} years old).\")\n",
        "print(f\"The youngest person is {people[youngest]['name']} ({ages[youngest]} years old).\")\n",
        "print(\"\\n\")\n",
        "\n",
        "wednesday_count = 0\n",
        "\n",
        "# Loop through the list of people\n",
        "for person in people:\n",
        "    # Check if the birthday weekday is Wednesday (2)\n",
        "    if person[\"birthday\"].weekday() == 2:\n",
        "        # Increment the counter if it's Wednesday\n",
        "        wednesday_count += 1\n",
        "\n",
        "# Print the total number of Wednesday births\n",
        "print(f\"{wednesday_count} people in the list were born on a Wednesday.\")\n"
      ],
      "metadata": {
        "colab": {
          "base_uri": "https://localhost:8080/"
        },
        "id": "ja8y26BOfrLx",
        "outputId": "5f7305cd-ac1a-4914-c38f-80b6fb9cea07"
      },
      "execution_count": 32,
      "outputs": [
        {
          "output_type": "stream",
          "name": "stdout",
          "text": [
            "Khalid is 34 years old, was born on a Wednesday.\n",
            "Nouf is 19 years old, was born on a Thursday.\n",
            "Ali is 14 years old, was born on a Wednesday.\n",
            "\n",
            "\n",
            "The oldest person is Khalid (34 years old).\n",
            "The youngest person is Ali (14 years old).\n",
            "\n",
            "\n",
            "2 people in the list were born on a Wednesday.\n"
          ]
        }
      ]
    }
  ]
}